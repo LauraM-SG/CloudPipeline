{
 "cells": [
  {
   "cell_type": "markdown",
   "metadata": {},
   "source": [
    "# Collecting Airports and Arrival flights info \n",
    "> **Aero Data box API**"
   ]
  },
  {
   "cell_type": "code",
   "execution_count": 36,
   "metadata": {},
   "outputs": [],
   "source": [
    "import requests\n",
    "import pandas as pd\n",
    "import os\n",
    "from sqlalchemy import create_engine\n",
    "from dotenv import load_dotenv\n",
    "from datetime import datetime, timedelta\n",
    "import time"
   ]
  },
  {
   "cell_type": "code",
   "execution_count": 58,
   "metadata": {},
   "outputs": [
    {
     "data": {
      "text/plain": [
       "True"
      ]
     },
     "execution_count": 58,
     "metadata": {},
     "output_type": "execute_result"
    }
   ],
   "source": [
    "load_dotenv()"
   ]
  },
  {
   "cell_type": "code",
   "execution_count": 59,
   "metadata": {},
   "outputs": [],
   "source": [
    "OpenWeatherAPIKey=os.environ['OpenWeatherAPIKey']\n",
    "RapidAPIKey=os.environ['RapidAPIKey']\n",
    "password_mysql=os.getenv('mysql_password')\n",
    "my_user_mysql=os.getenv('username')\n",
    "my_sql_port=os.getenv('my_port')\n",
    "my_localhost=os.getenv('localhost')\n"
   ]
  },
  {
   "cell_type": "code",
   "execution_count": 54,
   "metadata": {},
   "outputs": [],
   "source": [
    "schema = \"gans\"\n",
    "host = my_localhost\n",
    "user = my_user_mysql\n",
    "password = password_mysql\n",
    "port = my_sql_port\n",
    "connection_string = f'mysql+pymysql://{user}:{password}@{host}:{port}/{schema}'"
   ]
  },
  {
   "cell_type": "code",
   "execution_count": 24,
   "metadata": {},
   "outputs": [
    {
     "data": {
      "application/vnd.microsoft.datawrangler.viewer.v0+json": {
       "columns": [
        {
         "name": "index",
         "rawType": "int64",
         "type": "integer"
        },
        {
         "name": "city_id",
         "rawType": "int64",
         "type": "integer"
        },
        {
         "name": "population",
         "rawType": "object",
         "type": "string"
        },
        {
         "name": "longitude",
         "rawType": "float64",
         "type": "float"
        },
        {
         "name": "latitude",
         "rawType": "float64",
         "type": "float"
        },
        {
         "name": "year_data_retrieved",
         "rawType": "datetime64[ns]",
         "type": "datetime"
        }
       ],
       "ref": "633fa6a9-3de3-4b4b-b962-0e4a43304ffb",
       "rows": [
        [
         "0",
         "1",
         "3,596,999",
         "13.0",
         "53.0",
         "2025-10-15 16:13:37"
        ],
        [
         "1",
         "2",
         "1,964,021",
         "10.0",
         "54.0",
         "2025-10-15 16:13:38"
        ],
        [
         "2",
         "3",
         "1,505,005",
         "12.0",
         "48.0",
         "2025-10-15 16:13:39"
        ]
       ],
       "shape": {
        "columns": 5,
        "rows": 3
       }
      },
      "text/html": [
       "<div>\n",
       "<style scoped>\n",
       "    .dataframe tbody tr th:only-of-type {\n",
       "        vertical-align: middle;\n",
       "    }\n",
       "\n",
       "    .dataframe tbody tr th {\n",
       "        vertical-align: top;\n",
       "    }\n",
       "\n",
       "    .dataframe thead th {\n",
       "        text-align: right;\n",
       "    }\n",
       "</style>\n",
       "<table border=\"1\" class=\"dataframe\">\n",
       "  <thead>\n",
       "    <tr style=\"text-align: right;\">\n",
       "      <th></th>\n",
       "      <th>city_id</th>\n",
       "      <th>population</th>\n",
       "      <th>longitude</th>\n",
       "      <th>latitude</th>\n",
       "      <th>year_data_retrieved</th>\n",
       "    </tr>\n",
       "  </thead>\n",
       "  <tbody>\n",
       "    <tr>\n",
       "      <th>0</th>\n",
       "      <td>1</td>\n",
       "      <td>3,596,999</td>\n",
       "      <td>13.0</td>\n",
       "      <td>53.0</td>\n",
       "      <td>2025-10-15 16:13:37</td>\n",
       "    </tr>\n",
       "    <tr>\n",
       "      <th>1</th>\n",
       "      <td>2</td>\n",
       "      <td>1,964,021</td>\n",
       "      <td>10.0</td>\n",
       "      <td>54.0</td>\n",
       "      <td>2025-10-15 16:13:38</td>\n",
       "    </tr>\n",
       "    <tr>\n",
       "      <th>2</th>\n",
       "      <td>3</td>\n",
       "      <td>1,505,005</td>\n",
       "      <td>12.0</td>\n",
       "      <td>48.0</td>\n",
       "      <td>2025-10-15 16:13:39</td>\n",
       "    </tr>\n",
       "  </tbody>\n",
       "</table>\n",
       "</div>"
      ],
      "text/plain": [
       "   city_id population  longitude  latitude year_data_retrieved\n",
       "0        1  3,596,999       13.0      53.0 2025-10-15 16:13:37\n",
       "1        2  1,964,021       10.0      54.0 2025-10-15 16:13:38\n",
       "2        3  1,505,005       12.0      48.0 2025-10-15 16:13:39"
      ]
     },
     "execution_count": 24,
     "metadata": {},
     "output_type": "execute_result"
    }
   ],
   "source": [
    "additional_data= pd.read_sql(\"additional_data\", con=connection_string) \n",
    "additional_data"
   ]
  },
  {
   "cell_type": "markdown",
   "metadata": {},
   "source": [
    "## Getting airports data"
   ]
  },
  {
   "cell_type": "markdown",
   "metadata": {},
   "source": [
    "Using data from the **`cities`** table in Gans Database"
   ]
  },
  {
   "cell_type": "code",
   "execution_count": 55,
   "metadata": {},
   "outputs": [
    {
     "data": {
      "application/vnd.microsoft.datawrangler.viewer.v0+json": {
       "columns": [
        {
         "name": "index",
         "rawType": "int64",
         "type": "integer"
        },
        {
         "name": "city_id",
         "rawType": "int64",
         "type": "integer"
        },
        {
         "name": "city_name",
         "rawType": "object",
         "type": "string"
        },
        {
         "name": "country",
         "rawType": "object",
         "type": "string"
        }
       ],
       "ref": "892560c4-c569-4d40-ad64-06cc2ac81f8c",
       "rows": [
        [
         "0",
         "1",
         "Berlin",
         "Germany"
        ],
        [
         "1",
         "2",
         "Hamburg",
         "Germany"
        ],
        [
         "2",
         "3",
         "Munich",
         "Germany"
        ]
       ],
       "shape": {
        "columns": 3,
        "rows": 3
       }
      },
      "text/html": [
       "<div>\n",
       "<style scoped>\n",
       "    .dataframe tbody tr th:only-of-type {\n",
       "        vertical-align: middle;\n",
       "    }\n",
       "\n",
       "    .dataframe tbody tr th {\n",
       "        vertical-align: top;\n",
       "    }\n",
       "\n",
       "    .dataframe thead th {\n",
       "        text-align: right;\n",
       "    }\n",
       "</style>\n",
       "<table border=\"1\" class=\"dataframe\">\n",
       "  <thead>\n",
       "    <tr style=\"text-align: right;\">\n",
       "      <th></th>\n",
       "      <th>city_id</th>\n",
       "      <th>city_name</th>\n",
       "      <th>country</th>\n",
       "    </tr>\n",
       "  </thead>\n",
       "  <tbody>\n",
       "    <tr>\n",
       "      <th>0</th>\n",
       "      <td>1</td>\n",
       "      <td>Berlin</td>\n",
       "      <td>Germany</td>\n",
       "    </tr>\n",
       "    <tr>\n",
       "      <th>1</th>\n",
       "      <td>2</td>\n",
       "      <td>Hamburg</td>\n",
       "      <td>Germany</td>\n",
       "    </tr>\n",
       "    <tr>\n",
       "      <th>2</th>\n",
       "      <td>3</td>\n",
       "      <td>Munich</td>\n",
       "      <td>Germany</td>\n",
       "    </tr>\n",
       "  </tbody>\n",
       "</table>\n",
       "</div>"
      ],
      "text/plain": [
       "   city_id city_name  country\n",
       "0        1    Berlin  Germany\n",
       "1        2   Hamburg  Germany\n",
       "2        3    Munich  Germany"
      ]
     },
     "execution_count": 55,
     "metadata": {},
     "output_type": "execute_result"
    }
   ],
   "source": [
    "cities_df_from_sql= pd.read_sql(\"cities\", con=connection_string)\n",
    "cities_df_from_sql"
   ]
  },
  {
   "cell_type": "code",
   "execution_count": 65,
   "metadata": {},
   "outputs": [],
   "source": [
    "def airports(cities_df):\n",
    "    all_airports = []  \n",
    "\n",
    "    for _, row in cities_df.iterrows():  # Iterate through rows to get both city_name & city_id\n",
    "        city = row[\"city_name\"]\n",
    "        city_id = row[\"city_id\"]\n",
    "        # Get city coordinates from OpenWeather API\n",
    "        geo_url = f'http://api.openweathermap.org/geo/1.0/direct?q={city}&limit=1&appid={OpenWeatherAPIKey}'\n",
    "        geo_json = requests.get(geo_url).json()\n",
    "\n",
    "        if not geo_json:\n",
    "            print(f\"No coordinates found for {city}.\")\n",
    "            continue  # Skip to the next city\n",
    "\n",
    "        lat, lon = geo_json[0]['lat'], geo_json[0]['lon']\n",
    "\n",
    "        # AeroDataBox API configuration\n",
    "        headers = {\n",
    "            \"X-RapidAPI-Key\": RapidAPIKey,\n",
    "            \"X-RapidAPI-Host\": \"aerodatabox.p.rapidapi.com\"\n",
    "        }\n",
    "\n",
    "        querystring = {\"withFlightInfoOnly\": \"true\"}\n",
    "        url = f\"https://aerodatabox.p.rapidapi.com/airports/search/location/{lat}/{lon}/km/50/16\"\n",
    "\n",
    "        response = requests.get(url, headers=headers, params=querystring)\n",
    "\n",
    "        if response.status_code != 200:\n",
    "            print(f\"Error fetching airports for {city}: {response.status_code}\")\n",
    "            continue  # Skip to the next city\n",
    "\n",
    "        data = response.json()\n",
    "\n",
    "        if \"items\" not in data or not data[\"items\"]:\n",
    "            print(f\"No airports found near {city}.\")\n",
    "            continue  # Skip to the next city\n",
    "\n",
    "        # Extract only needed fields\n",
    "        for airport in data[\"items\"]:\n",
    "            airport_data = {\n",
    "                \"city_id\": city_id,\n",
    "                #\"city_name\": city, \n",
    "                \"airport_name\": airport.get(\"name\", None), \n",
    "                \"icao\": airport.get(\"icao\", None),\n",
    "                \"iata\": airport.get(\"iata\", None),\n",
    "                \"latitude\": airport.get(\"location\", {}).get(\"lat\", None),\n",
    "                \"longitude\": airport.get(\"location\", {}).get(\"lon\", None),\n",
    "            }\n",
    "            all_airports.append(airport_data)  # Append to list\n",
    "\n",
    "    # Return DataFrame with selected columns\n",
    "    return pd.DataFrame(all_airports)"
   ]
  },
  {
   "cell_type": "code",
   "execution_count": 66,
   "metadata": {},
   "outputs": [
    {
     "data": {
      "application/vnd.microsoft.datawrangler.viewer.v0+json": {
       "columns": [
        {
         "name": "index",
         "rawType": "int64",
         "type": "integer"
        },
        {
         "name": "city_id",
         "rawType": "int64",
         "type": "integer"
        },
        {
         "name": "airport_name",
         "rawType": "object",
         "type": "string"
        },
        {
         "name": "icao",
         "rawType": "object",
         "type": "string"
        },
        {
         "name": "iata",
         "rawType": "object",
         "type": "string"
        },
        {
         "name": "latitude",
         "rawType": "float64",
         "type": "float"
        },
        {
         "name": "longitude",
         "rawType": "float64",
         "type": "float"
        }
       ],
       "ref": "77ff1fd9-88d8-4ad3-b09b-5ad182ea8391",
       "rows": [
        [
         "0",
         "1",
         "Berlin -Tegel",
         "EDDT",
         "TXL",
         "52.5597",
         "13.287699"
        ],
        [
         "1",
         "1",
         "Berlin Brandenburg",
         "EDDB",
         "BER",
         "52.35139",
         "13.493889"
        ],
        [
         "2",
         "2",
         "Hamburg",
         "EDDH",
         "HAM",
         "53.6304",
         "9.988229"
        ],
        [
         "3",
         "3",
         "Munich",
         "EDDM",
         "MUC",
         "48.3538",
         "11.7861"
        ]
       ],
       "shape": {
        "columns": 6,
        "rows": 4
       }
      },
      "text/html": [
       "<div>\n",
       "<style scoped>\n",
       "    .dataframe tbody tr th:only-of-type {\n",
       "        vertical-align: middle;\n",
       "    }\n",
       "\n",
       "    .dataframe tbody tr th {\n",
       "        vertical-align: top;\n",
       "    }\n",
       "\n",
       "    .dataframe thead th {\n",
       "        text-align: right;\n",
       "    }\n",
       "</style>\n",
       "<table border=\"1\" class=\"dataframe\">\n",
       "  <thead>\n",
       "    <tr style=\"text-align: right;\">\n",
       "      <th></th>\n",
       "      <th>city_id</th>\n",
       "      <th>airport_name</th>\n",
       "      <th>icao</th>\n",
       "      <th>iata</th>\n",
       "      <th>latitude</th>\n",
       "      <th>longitude</th>\n",
       "    </tr>\n",
       "  </thead>\n",
       "  <tbody>\n",
       "    <tr>\n",
       "      <th>0</th>\n",
       "      <td>1</td>\n",
       "      <td>Berlin -Tegel</td>\n",
       "      <td>EDDT</td>\n",
       "      <td>TXL</td>\n",
       "      <td>52.55970</td>\n",
       "      <td>13.287699</td>\n",
       "    </tr>\n",
       "    <tr>\n",
       "      <th>1</th>\n",
       "      <td>1</td>\n",
       "      <td>Berlin Brandenburg</td>\n",
       "      <td>EDDB</td>\n",
       "      <td>BER</td>\n",
       "      <td>52.35139</td>\n",
       "      <td>13.493889</td>\n",
       "    </tr>\n",
       "    <tr>\n",
       "      <th>2</th>\n",
       "      <td>2</td>\n",
       "      <td>Hamburg</td>\n",
       "      <td>EDDH</td>\n",
       "      <td>HAM</td>\n",
       "      <td>53.63040</td>\n",
       "      <td>9.988229</td>\n",
       "    </tr>\n",
       "    <tr>\n",
       "      <th>3</th>\n",
       "      <td>3</td>\n",
       "      <td>Munich</td>\n",
       "      <td>EDDM</td>\n",
       "      <td>MUC</td>\n",
       "      <td>48.35380</td>\n",
       "      <td>11.786100</td>\n",
       "    </tr>\n",
       "  </tbody>\n",
       "</table>\n",
       "</div>"
      ],
      "text/plain": [
       "   city_id        airport_name  icao iata  latitude  longitude\n",
       "0        1       Berlin -Tegel  EDDT  TXL  52.55970  13.287699\n",
       "1        1  Berlin Brandenburg  EDDB  BER  52.35139  13.493889\n",
       "2        2             Hamburg  EDDH  HAM  53.63040   9.988229\n",
       "3        3              Munich  EDDM  MUC  48.35380  11.786100"
      ]
     },
     "execution_count": 66,
     "metadata": {},
     "output_type": "execute_result"
    }
   ],
   "source": [
    "airports_df= airports(cities_df_from_sql)\n",
    "airports_df"
   ]
  },
  {
   "cell_type": "code",
   "execution_count": 40,
   "metadata": {},
   "outputs": [
    {
     "data": {
      "text/plain": [
       "4"
      ]
     },
     "execution_count": 40,
     "metadata": {},
     "output_type": "execute_result"
    }
   ],
   "source": [
    "airports_df.to_sql('airports',\n",
    "                if_exists='append',\n",
    "                con=connection_string,\n",
    "                index=False)"
   ]
  },
  {
   "cell_type": "code",
   "execution_count": 41,
   "metadata": {},
   "outputs": [
    {
     "data": {
      "application/vnd.microsoft.datawrangler.viewer.v0+json": {
       "columns": [
        {
         "name": "index",
         "rawType": "int64",
         "type": "integer"
        },
        {
         "name": "city_id",
         "rawType": "int64",
         "type": "integer"
        },
        {
         "name": "airport_name",
         "rawType": "object",
         "type": "string"
        },
        {
         "name": "icao",
         "rawType": "object",
         "type": "string"
        },
        {
         "name": "iata",
         "rawType": "object",
         "type": "string"
        },
        {
         "name": "latitude",
         "rawType": "float64",
         "type": "float"
        },
        {
         "name": "longitude",
         "rawType": "float64",
         "type": "float"
        }
       ],
       "ref": "af041857-fc7f-44fb-b067-c77663268751",
       "rows": [
        [
         "0",
         "1",
         "Berlin Brandenburg",
         "EDDB",
         "BER",
         "52.0",
         "13.0"
        ],
        [
         "1",
         "2",
         "Hamburg",
         "EDDH",
         "HAM",
         "54.0",
         "10.0"
        ],
        [
         "2",
         "3",
         "Munich",
         "EDDM",
         "MUC",
         "48.0",
         "12.0"
        ],
        [
         "3",
         "1",
         "Berlin -Tegel",
         "EDDT",
         "TXL",
         "53.0",
         "13.0"
        ]
       ],
       "shape": {
        "columns": 6,
        "rows": 4
       }
      },
      "text/html": [
       "<div>\n",
       "<style scoped>\n",
       "    .dataframe tbody tr th:only-of-type {\n",
       "        vertical-align: middle;\n",
       "    }\n",
       "\n",
       "    .dataframe tbody tr th {\n",
       "        vertical-align: top;\n",
       "    }\n",
       "\n",
       "    .dataframe thead th {\n",
       "        text-align: right;\n",
       "    }\n",
       "</style>\n",
       "<table border=\"1\" class=\"dataframe\">\n",
       "  <thead>\n",
       "    <tr style=\"text-align: right;\">\n",
       "      <th></th>\n",
       "      <th>city_id</th>\n",
       "      <th>airport_name</th>\n",
       "      <th>icao</th>\n",
       "      <th>iata</th>\n",
       "      <th>latitude</th>\n",
       "      <th>longitude</th>\n",
       "    </tr>\n",
       "  </thead>\n",
       "  <tbody>\n",
       "    <tr>\n",
       "      <th>0</th>\n",
       "      <td>1</td>\n",
       "      <td>Berlin Brandenburg</td>\n",
       "      <td>EDDB</td>\n",
       "      <td>BER</td>\n",
       "      <td>52.0</td>\n",
       "      <td>13.0</td>\n",
       "    </tr>\n",
       "    <tr>\n",
       "      <th>1</th>\n",
       "      <td>2</td>\n",
       "      <td>Hamburg</td>\n",
       "      <td>EDDH</td>\n",
       "      <td>HAM</td>\n",
       "      <td>54.0</td>\n",
       "      <td>10.0</td>\n",
       "    </tr>\n",
       "    <tr>\n",
       "      <th>2</th>\n",
       "      <td>3</td>\n",
       "      <td>Munich</td>\n",
       "      <td>EDDM</td>\n",
       "      <td>MUC</td>\n",
       "      <td>48.0</td>\n",
       "      <td>12.0</td>\n",
       "    </tr>\n",
       "    <tr>\n",
       "      <th>3</th>\n",
       "      <td>1</td>\n",
       "      <td>Berlin -Tegel</td>\n",
       "      <td>EDDT</td>\n",
       "      <td>TXL</td>\n",
       "      <td>53.0</td>\n",
       "      <td>13.0</td>\n",
       "    </tr>\n",
       "  </tbody>\n",
       "</table>\n",
       "</div>"
      ],
      "text/plain": [
       "   city_id        airport_name  icao iata  latitude  longitude\n",
       "0        1  Berlin Brandenburg  EDDB  BER      52.0       13.0\n",
       "1        2             Hamburg  EDDH  HAM      54.0       10.0\n",
       "2        3              Munich  EDDM  MUC      48.0       12.0\n",
       "3        1       Berlin -Tegel  EDDT  TXL      53.0       13.0"
      ]
     },
     "execution_count": 41,
     "metadata": {},
     "output_type": "execute_result"
    }
   ],
   "source": [
    "pd.read_sql(\"airports\", con=connection_string)"
   ]
  },
  {
   "cell_type": "markdown",
   "metadata": {},
   "source": [
    "## Getting flights data "
   ]
  },
  {
   "cell_type": "markdown",
   "metadata": {},
   "source": [
    "Using data from the recently created **`airports`** table in Gans Database"
   ]
  },
  {
   "cell_type": "code",
   "execution_count": 16,
   "metadata": {},
   "outputs": [
    {
     "data": {
      "application/vnd.microsoft.datawrangler.viewer.v0+json": {
       "columns": [
        {
         "name": "index",
         "rawType": "int64",
         "type": "integer"
        },
        {
         "name": "city_id",
         "rawType": "int64",
         "type": "integer"
        },
        {
         "name": "airport_name",
         "rawType": "object",
         "type": "string"
        },
        {
         "name": "icao",
         "rawType": "object",
         "type": "string"
        },
        {
         "name": "iata",
         "rawType": "object",
         "type": "string"
        },
        {
         "name": "latitude",
         "rawType": "float64",
         "type": "float"
        },
        {
         "name": "longitude",
         "rawType": "float64",
         "type": "float"
        }
       ],
       "conversionMethod": "pd.DataFrame",
       "ref": "3bfd9dc8-5c2a-404a-b500-a5f820d1271e",
       "rows": [
        [
         "0",
         "1",
         "Berlin Brandenburg",
         "EDDB",
         "BER",
         "52.0",
         "13.0"
        ],
        [
         "1",
         "2",
         "Hamburg",
         "EDDH",
         "HAM",
         "54.0",
         "10.0"
        ],
        [
         "2",
         "3",
         "Munich",
         "EDDM",
         "MUC",
         "48.0",
         "12.0"
        ],
        [
         "3",
         "1",
         "Berlin -Tegel",
         "EDDT",
         "TXL",
         "53.0",
         "13.0"
        ]
       ],
       "shape": {
        "columns": 6,
        "rows": 4
       }
      },
      "text/html": [
       "<div>\n",
       "<style scoped>\n",
       "    .dataframe tbody tr th:only-of-type {\n",
       "        vertical-align: middle;\n",
       "    }\n",
       "\n",
       "    .dataframe tbody tr th {\n",
       "        vertical-align: top;\n",
       "    }\n",
       "\n",
       "    .dataframe thead th {\n",
       "        text-align: right;\n",
       "    }\n",
       "</style>\n",
       "<table border=\"1\" class=\"dataframe\">\n",
       "  <thead>\n",
       "    <tr style=\"text-align: right;\">\n",
       "      <th></th>\n",
       "      <th>city_id</th>\n",
       "      <th>airport_name</th>\n",
       "      <th>icao</th>\n",
       "      <th>iata</th>\n",
       "      <th>latitude</th>\n",
       "      <th>longitude</th>\n",
       "    </tr>\n",
       "  </thead>\n",
       "  <tbody>\n",
       "    <tr>\n",
       "      <th>0</th>\n",
       "      <td>1</td>\n",
       "      <td>Berlin Brandenburg</td>\n",
       "      <td>EDDB</td>\n",
       "      <td>BER</td>\n",
       "      <td>52.0</td>\n",
       "      <td>13.0</td>\n",
       "    </tr>\n",
       "    <tr>\n",
       "      <th>1</th>\n",
       "      <td>2</td>\n",
       "      <td>Hamburg</td>\n",
       "      <td>EDDH</td>\n",
       "      <td>HAM</td>\n",
       "      <td>54.0</td>\n",
       "      <td>10.0</td>\n",
       "    </tr>\n",
       "    <tr>\n",
       "      <th>2</th>\n",
       "      <td>3</td>\n",
       "      <td>Munich</td>\n",
       "      <td>EDDM</td>\n",
       "      <td>MUC</td>\n",
       "      <td>48.0</td>\n",
       "      <td>12.0</td>\n",
       "    </tr>\n",
       "    <tr>\n",
       "      <th>3</th>\n",
       "      <td>1</td>\n",
       "      <td>Berlin -Tegel</td>\n",
       "      <td>EDDT</td>\n",
       "      <td>TXL</td>\n",
       "      <td>53.0</td>\n",
       "      <td>13.0</td>\n",
       "    </tr>\n",
       "  </tbody>\n",
       "</table>\n",
       "</div>"
      ],
      "text/plain": [
       "   city_id        airport_name  icao iata  latitude  longitude\n",
       "0        1  Berlin Brandenburg  EDDB  BER      52.0       13.0\n",
       "1        2             Hamburg  EDDH  HAM      54.0       10.0\n",
       "2        3              Munich  EDDM  MUC      48.0       12.0\n",
       "3        1       Berlin -Tegel  EDDT  TXL      53.0       13.0"
      ]
     },
     "execution_count": 16,
     "metadata": {},
     "output_type": "execute_result"
    }
   ],
   "source": [
    "airports_df=pd.read_sql(\"airports\",con=connection_string)\n",
    "airports_df"
   ]
  },
  {
   "cell_type": "code",
   "execution_count": 67,
   "metadata": {},
   "outputs": [],
   "source": [
    "def arrival_flight_info(airports_df):\n",
    "\n",
    "    tomorrow=(datetime.now()+timedelta(days=1)).strftime('%Y-%m-%d') \n",
    "    timeslots = [('00:00','11:59'),('12:00','23:59')]\n",
    "    all_flights = []\n",
    "\n",
    "    for i, airport in airports_df.iterrows():\n",
    "        icao_code = airport[\"icao\"]\n",
    "\n",
    "        for start, end in timeslots:\n",
    "            url = f\"https://aerodatabox.p.rapidapi.com/flights/airports/icao/{icao_code}/{tomorrow}T{start}/{tomorrow}T{end}\"\n",
    "\n",
    "            querystring = {\"withLeg\":\"false\",\n",
    "                           \"direction\":\"Both\",\n",
    "                           \"withCancelled\":\"false\",\n",
    "                           \"withCodeshared\":\"false\",\n",
    "                           \"withCargo\":\"false\",\n",
    "                           \"withPrivate\":\"false\",\n",
    "                           \"withLocation\":\"false\"}\n",
    "\n",
    "            headers = {\n",
    "                \"x-rapidapi-key\": RapidAPIKey,\n",
    "                \"x-rapidapi-host\": \"aerodatabox.p.rapidapi.com\"\n",
    "            }\n",
    "\n",
    "            response = requests.get(url, headers=headers, params=querystring)\n",
    "\n",
    "            if response.status_code != 200:\n",
    "                print(f\"Error {response.status_code} for airport {icao_code}\")\n",
    "                time.sleep(2)\n",
    "                continue\n",
    "\n",
    "            arrivals = response.json().get(\"arrivals\", [])\n",
    "            if not arrivals:\n",
    "                print(f\"No arrivals found for {icao_code}\")\n",
    "                time.sleep(2)\n",
    "                continue\n",
    "\n",
    "            for flight in arrivals:\n",
    "                all_flights.append({\n",
    "                    \"icao\": airport['icao'],\n",
    "                    \"scheduled_arrival_time\": flight.get(\"movement\", {}).get(\"scheduledTime\",{}).get(\"local\"),\n",
    "                    \"arrival_gate\": flight.get(\"movement\", {}).get(\"gate\"),\n",
    "                    \"arrival_terminal\": flight.get(\"movement\", {}).get(\"terminal\"),\n",
    "                    \"icao_departure_airport\": flight.get(\"movement\", {}).get(\"airport\",{}).get(\"icao\"),\n",
    "                    \"departure_airport_name\": flight.get(\"movement\", {}).get(\"airport\",{}).get(\"name\")                      \n",
    "                })\n",
    "    all_flights= pd.DataFrame(all_flights)\n",
    "    all_flights['scheduled_arrival_time']=all_flights['scheduled_arrival_time'].str[:-6]\n",
    "    return all_flights    \n",
    "    #return pd.DataFrame(all_flights) #if all_flights else pd.DataFrame(\n",
    "        #columns=[\"departure_airport\", \"departure_airport_name\", \"scheduled_arrival_time\", \"arrival_terminal\", \"airport_icao\"])\n",
    "\n"
   ]
  },
  {
   "cell_type": "code",
   "execution_count": 68,
   "metadata": {},
   "outputs": [
    {
     "name": "stdout",
     "output_type": "stream",
     "text": [
      "Error 204 for airport EDDT\n",
      "Error 204 for airport EDDT\n"
     ]
    },
    {
     "data": {
      "application/vnd.microsoft.datawrangler.viewer.v0+json": {
       "columns": [
        {
         "name": "index",
         "rawType": "int64",
         "type": "integer"
        },
        {
         "name": "icao",
         "rawType": "object",
         "type": "string"
        },
        {
         "name": "scheduled_arrival_time",
         "rawType": "object",
         "type": "string"
        },
        {
         "name": "arrival_gate",
         "rawType": "object",
         "type": "unknown"
        },
        {
         "name": "arrival_terminal",
         "rawType": "object",
         "type": "string"
        },
        {
         "name": "icao_departure_airport",
         "rawType": "object",
         "type": "unknown"
        },
        {
         "name": "departure_airport_name",
         "rawType": "object",
         "type": "string"
        }
       ],
       "ref": "be7acf88-e838-4d4b-b129-c240e373db58",
       "rows": [
        [
         "0",
         "EDDB",
         "2025-10-16 06:30",
         "N01",
         "1",
         "LTBJ",
         "İzmir"
        ],
        [
         "1",
         "EDDB",
         "2025-10-16 06:45",
         "Y07",
         "1",
         "LPCV",
         "Cukurova Mersin"
        ],
        [
         "2",
         "EDDB",
         "2025-10-16 06:45",
         "X03",
         "1",
         "ZBAA",
         "Beijing"
        ],
        [
         "3",
         "EDDB",
         "2025-10-16 07:10",
         "A30",
         "1",
         "LOWW",
         "Vienna"
        ],
        [
         "4",
         "EDDB",
         "2025-10-16 07:15",
         "Y17",
         "1",
         "KEWR",
         "Newark"
        ],
        [
         "5",
         "EDDB",
         "2025-10-16 07:15",
         "Z36",
         "2",
         "LGKR",
         "Kerkyra Island"
        ],
        [
         "6",
         "EDDB",
         "2025-10-16 07:20",
         "X01",
         "1",
         "LUKK",
         "Chişinău"
        ],
        [
         "7",
         "EDDB",
         "2025-10-16 07:25",
         "X07",
         "1",
         "OTHH",
         "Doha"
        ],
        [
         "8",
         "EDDB",
         "2025-10-16 07:25",
         "Y02",
         "1",
         "KJFK",
         "New York"
        ],
        [
         "9",
         "EDDB",
         "2025-10-16 07:25",
         "A17",
         "1",
         "EDDF",
         "Frankfurt-am-Main"
        ],
        [
         "10",
         "EDDB",
         "2025-10-16 07:25",
         "Y06",
         "1",
         "LTAJ",
         "Gaziantep"
        ],
        [
         "11",
         "EDDB",
         "2025-10-16 07:40",
         "B20",
         "1",
         "EDDK",
         "Cologne"
        ],
        [
         "12",
         "EDDB",
         "2025-10-16 07:40",
         "A32",
         "1",
         "EVRA",
         "Riga"
        ],
        [
         "13",
         "EDDB",
         "2025-10-16 07:40",
         "A33",
         "1",
         "EDDS",
         "Stuttgart"
        ],
        [
         "14",
         "EDDB",
         "2025-10-16 07:45",
         "A20",
         "1",
         "EBBR",
         "Brussels"
        ],
        [
         "15",
         "EDDB",
         "2025-10-16 07:50",
         "A36",
         "1",
         "LGTS",
         "Thessaloniki"
        ],
        [
         "16",
         "EDDB",
         "2025-10-16 07:55",
         "A34",
         "1",
         "EDDF",
         "Frankfurt-am-Main"
        ],
        [
         "17",
         "EDDB",
         "2025-10-16 08:00",
         "S01",
         "1",
         "ELLX",
         "Luxembourg"
        ],
        [
         "18",
         "EDDB",
         "2025-10-16 08:00",
         "A31",
         "1",
         "EDDL",
         "Düsseldorf"
        ],
        [
         "19",
         "EDDB",
         "2025-10-16 08:05",
         "A35",
         "1",
         "EFHK",
         "Helsinki"
        ],
        [
         "20",
         "EDDB",
         "2025-10-16 08:05",
         "A02",
         "1",
         "EDDM",
         "Munich"
        ],
        [
         "21",
         "EDDB",
         "2025-10-16 08:05",
         "Z34",
         "2",
         "EDDR",
         "Saarbrücken"
        ],
        [
         "22",
         "EDDB",
         "2025-10-16 08:10",
         "A06",
         "1",
         "LOWW",
         "Vienna"
        ],
        [
         "23",
         "EDDB",
         "2025-10-16 08:10",
         "Z32",
         "2",
         "LDDU",
         "Dubrovnik"
        ],
        [
         "24",
         "EDDB",
         "2025-10-16 08:25",
         "A30",
         "1",
         "EHAM",
         "Amsterdam"
        ],
        [
         "25",
         "EDDB",
         "2025-10-16 08:25",
         "Y03",
         "1",
         "OMDB",
         "Dubai"
        ],
        [
         "26",
         "EDDB",
         "2025-10-16 08:25",
         "X03",
         "1",
         "LTBJ",
         "İzmir"
        ],
        [
         "27",
         "EDDB",
         "2025-10-16 08:30",
         "Z30",
         "2",
         "LEPA",
         "Palma De Mallorca"
        ],
        [
         "28",
         "EDDB",
         "2025-10-16 08:40",
         "X17",
         "1",
         "LYBE",
         "Belgrade"
        ],
        [
         "29",
         "EDDB",
         "2025-10-16 08:45",
         "B07",
         "1",
         "LSZH",
         "Zurich"
        ],
        [
         "30",
         "EDDB",
         "2025-10-16 08:55",
         "B06",
         "1",
         "EDDF",
         "Frankfurt-am-Main"
        ],
        [
         "31",
         "EDDB",
         "2025-10-16 09:00",
         "Z40",
         "2",
         "EGSS",
         "London"
        ],
        [
         "32",
         "EDDB",
         "2025-10-16 09:05",
         "Z34",
         "2",
         "ENGM",
         "Oslo"
        ],
        [
         "33",
         "EDDB",
         "2025-10-16 09:10",
         "N01",
         "1",
         "LTFG",
         "Gazipaşa"
        ],
        [
         "34",
         "EDDB",
         "2025-10-16 09:10",
         "B20",
         "1",
         "EDDM",
         "Munich"
        ],
        [
         "35",
         "EDDB",
         "2025-10-16 09:15",
         "Z32",
         "2",
         "LEBL",
         "Barcelona"
        ],
        [
         "36",
         "EDDB",
         "2025-10-16 09:15",
         "A32",
         "1",
         "EDDS",
         "Stuttgart"
        ],
        [
         "37",
         "EDDB",
         "2025-10-16 09:15",
         "Z42",
         "2",
         "EGPH",
         "Edinburgh"
        ],
        [
         "38",
         "EDDB",
         "2025-10-16 09:20",
         "A31",
         "1",
         "EKCH",
         "Copenhagen"
        ],
        [
         "39",
         "EDDB",
         "2025-10-16 09:20",
         "A37",
         "1",
         "LFPG",
         "Paris"
        ],
        [
         "40",
         "EDDB",
         "2025-10-16 09:20",
         "X01",
         "1",
         "LTFM",
         "Istanbul"
        ],
        [
         "41",
         "EDDB",
         "2025-10-16 09:25",
         "A06",
         "1",
         "EDDF",
         "Frankfurt-am-Main"
        ],
        [
         "42",
         "EDDB",
         "2025-10-16 09:35",
         "N01",
         "1",
         "LTAI",
         "Antalya"
        ],
        [
         "43",
         "EDDB",
         "2025-10-16 09:35",
         "Y03",
         "1",
         "EGKK",
         "London"
        ],
        [
         "44",
         "EDDB",
         "2025-10-16 09:35",
         "X19",
         "1",
         "LLBG",
         "Tel Aviv Yafo"
        ],
        [
         "45",
         "EDDB",
         "2025-10-16 09:40",
         "A36",
         "1",
         "LIML",
         "Milan"
        ],
        [
         "46",
         "EDDB",
         "2025-10-16 09:40",
         "B02",
         "1",
         "LSZH",
         "Zurich"
        ],
        [
         "47",
         "EDDB",
         "2025-10-16 09:45",
         "A34",
         "1",
         "LEPA",
         "Palma De Mallorca"
        ],
        [
         "48",
         "EDDB",
         "2025-10-16 09:50",
         "A38",
         "1",
         "LSZH",
         "Zurich"
        ],
        [
         "49",
         "EDDB",
         "2025-10-16 09:55",
         "Z36",
         "2",
         "LIME",
         "Bergamo"
        ]
       ],
       "shape": {
        "columns": 6,
        "rows": 974
       }
      },
      "text/html": [
       "<div>\n",
       "<style scoped>\n",
       "    .dataframe tbody tr th:only-of-type {\n",
       "        vertical-align: middle;\n",
       "    }\n",
       "\n",
       "    .dataframe tbody tr th {\n",
       "        vertical-align: top;\n",
       "    }\n",
       "\n",
       "    .dataframe thead th {\n",
       "        text-align: right;\n",
       "    }\n",
       "</style>\n",
       "<table border=\"1\" class=\"dataframe\">\n",
       "  <thead>\n",
       "    <tr style=\"text-align: right;\">\n",
       "      <th></th>\n",
       "      <th>icao</th>\n",
       "      <th>scheduled_arrival_time</th>\n",
       "      <th>arrival_gate</th>\n",
       "      <th>arrival_terminal</th>\n",
       "      <th>icao_departure_airport</th>\n",
       "      <th>departure_airport_name</th>\n",
       "    </tr>\n",
       "  </thead>\n",
       "  <tbody>\n",
       "    <tr>\n",
       "      <th>0</th>\n",
       "      <td>EDDB</td>\n",
       "      <td>2025-10-16 06:30</td>\n",
       "      <td>N01</td>\n",
       "      <td>1</td>\n",
       "      <td>LTBJ</td>\n",
       "      <td>İzmir</td>\n",
       "    </tr>\n",
       "    <tr>\n",
       "      <th>1</th>\n",
       "      <td>EDDB</td>\n",
       "      <td>2025-10-16 06:45</td>\n",
       "      <td>Y07</td>\n",
       "      <td>1</td>\n",
       "      <td>LPCV</td>\n",
       "      <td>Cukurova Mersin</td>\n",
       "    </tr>\n",
       "    <tr>\n",
       "      <th>2</th>\n",
       "      <td>EDDB</td>\n",
       "      <td>2025-10-16 06:45</td>\n",
       "      <td>X03</td>\n",
       "      <td>1</td>\n",
       "      <td>ZBAA</td>\n",
       "      <td>Beijing</td>\n",
       "    </tr>\n",
       "    <tr>\n",
       "      <th>3</th>\n",
       "      <td>EDDB</td>\n",
       "      <td>2025-10-16 07:10</td>\n",
       "      <td>A30</td>\n",
       "      <td>1</td>\n",
       "      <td>LOWW</td>\n",
       "      <td>Vienna</td>\n",
       "    </tr>\n",
       "    <tr>\n",
       "      <th>4</th>\n",
       "      <td>EDDB</td>\n",
       "      <td>2025-10-16 07:15</td>\n",
       "      <td>Y17</td>\n",
       "      <td>1</td>\n",
       "      <td>KEWR</td>\n",
       "      <td>Newark</td>\n",
       "    </tr>\n",
       "    <tr>\n",
       "      <th>...</th>\n",
       "      <td>...</td>\n",
       "      <td>...</td>\n",
       "      <td>...</td>\n",
       "      <td>...</td>\n",
       "      <td>...</td>\n",
       "      <td>...</td>\n",
       "    </tr>\n",
       "    <tr>\n",
       "      <th>969</th>\n",
       "      <td>EDDM</td>\n",
       "      <td>2025-10-16 23:20</td>\n",
       "      <td>None</td>\n",
       "      <td>1</td>\n",
       "      <td>GCLP</td>\n",
       "      <td>Gran Canaria Island</td>\n",
       "    </tr>\n",
       "    <tr>\n",
       "      <th>970</th>\n",
       "      <td>EDDM</td>\n",
       "      <td>2025-10-16 23:20</td>\n",
       "      <td>None</td>\n",
       "      <td>2</td>\n",
       "      <td>EGLL</td>\n",
       "      <td>London</td>\n",
       "    </tr>\n",
       "    <tr>\n",
       "      <th>971</th>\n",
       "      <td>EDDM</td>\n",
       "      <td>2025-10-16 23:20</td>\n",
       "      <td>None</td>\n",
       "      <td>2</td>\n",
       "      <td>LPPT</td>\n",
       "      <td>Lisbon</td>\n",
       "    </tr>\n",
       "    <tr>\n",
       "      <th>972</th>\n",
       "      <td>EDDM</td>\n",
       "      <td>2025-10-16 23:20</td>\n",
       "      <td>None</td>\n",
       "      <td>1</td>\n",
       "      <td>GCTS</td>\n",
       "      <td>Tenerife Island</td>\n",
       "    </tr>\n",
       "    <tr>\n",
       "      <th>973</th>\n",
       "      <td>EDDM</td>\n",
       "      <td>2025-10-16 23:25</td>\n",
       "      <td>None</td>\n",
       "      <td>1</td>\n",
       "      <td>GCFV</td>\n",
       "      <td>Fuerteventura Island</td>\n",
       "    </tr>\n",
       "  </tbody>\n",
       "</table>\n",
       "<p>974 rows × 6 columns</p>\n",
       "</div>"
      ],
      "text/plain": [
       "     icao scheduled_arrival_time arrival_gate arrival_terminal  \\\n",
       "0    EDDB       2025-10-16 06:30          N01                1   \n",
       "1    EDDB       2025-10-16 06:45          Y07                1   \n",
       "2    EDDB       2025-10-16 06:45          X03                1   \n",
       "3    EDDB       2025-10-16 07:10          A30                1   \n",
       "4    EDDB       2025-10-16 07:15          Y17                1   \n",
       "..    ...                    ...          ...              ...   \n",
       "969  EDDM       2025-10-16 23:20         None                1   \n",
       "970  EDDM       2025-10-16 23:20         None                2   \n",
       "971  EDDM       2025-10-16 23:20         None                2   \n",
       "972  EDDM       2025-10-16 23:20         None                1   \n",
       "973  EDDM       2025-10-16 23:25         None                1   \n",
       "\n",
       "    icao_departure_airport departure_airport_name  \n",
       "0                     LTBJ                  İzmir  \n",
       "1                     LPCV        Cukurova Mersin  \n",
       "2                     ZBAA                Beijing  \n",
       "3                     LOWW                 Vienna  \n",
       "4                     KEWR                 Newark  \n",
       "..                     ...                    ...  \n",
       "969                   GCLP    Gran Canaria Island  \n",
       "970                   EGLL                 London  \n",
       "971                   LPPT                 Lisbon  \n",
       "972                   GCTS        Tenerife Island  \n",
       "973                   GCFV   Fuerteventura Island  \n",
       "\n",
       "[974 rows x 6 columns]"
      ]
     },
     "execution_count": 68,
     "metadata": {},
     "output_type": "execute_result"
    }
   ],
   "source": [
    "arrival_flight_info(airports_df)"
   ]
  },
  {
   "cell_type": "code",
   "execution_count": 46,
   "metadata": {},
   "outputs": [
    {
     "name": "stdout",
     "output_type": "stream",
     "text": [
      "Error 204 for airport EDDT\n",
      "Error 204 for airport EDDT\n"
     ]
    }
   ],
   "source": [
    "flights_df = arrival_flight_info(airports_df)"
   ]
  },
  {
   "cell_type": "code",
   "execution_count": 45,
   "metadata": {},
   "outputs": [
    {
     "data": {
      "text/plain": [
       "974"
      ]
     },
     "execution_count": 45,
     "metadata": {},
     "output_type": "execute_result"
    }
   ],
   "source": [
    "flights_df.to_sql('arrival_flights',\n",
    "                if_exists='append',\n",
    "                con=connection_string,\n",
    "                index=False)"
   ]
  }
 ],
 "metadata": {
  "kernelspec": {
   "display_name": "Python 3",
   "language": "python",
   "name": "python3"
  },
  "language_info": {
   "codemirror_mode": {
    "name": "ipython",
    "version": 3
   },
   "file_extension": ".py",
   "mimetype": "text/x-python",
   "name": "python",
   "nbconvert_exporter": "python",
   "pygments_lexer": "ipython3",
   "version": "3.13.0"
  }
 },
 "nbformat": 4,
 "nbformat_minor": 2
}
