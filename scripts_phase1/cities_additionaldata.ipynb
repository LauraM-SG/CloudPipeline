{
 "cells": [
  {
   "cell_type": "markdown",
   "metadata": {},
   "source": [
    "# Collecting cities info - Web Scraping"
   ]
  },
  {
   "cell_type": "code",
   "execution_count": 29,
   "metadata": {},
   "outputs": [],
   "source": [
    "from bs4 import BeautifulSoup\n",
    "import requests\n",
    "import pandas as pd\n",
    "import re\n",
    "from lat_lon_parser import parse\n",
    "import datetime\n",
    "import os\n",
    "from dotenv import load_dotenv\n",
    "from sqlalchemy import create_engine\n",
    "from pytz import timezone\n",
    "from datetime import datetime\n"
   ]
  },
  {
   "cell_type": "markdown",
   "metadata": {},
   "source": [
    "## Creating the function "
   ]
  },
  {
   "cell_type": "code",
   "execution_count": 2,
   "metadata": {},
   "outputs": [],
   "source": [
    "def get_cities_info(cities):\n",
    "    add_data = []  \n",
    "\n",
    "    for city in cities:\n",
    "        url = f'https://en.wikipedia.org/wiki/{city}'\n",
    "        headers = {\n",
    "                    'User-Agent': 'Mozilla/5.0 (Windows NT 10.0; Win64; x64) AppleWebKit/537.36 (KHTML, like Gecko) Chrome/123.0.0.0 Safari/537.36'\n",
    "                    }\n",
    "        response = requests.get(url, headers=headers)\n",
    "\n",
    "        if response.status_code != 200:\n",
    "            print(f\"Error fetching data for {city}: {response.status_code}\")\n",
    "            continue  \n",
    "\n",
    "        soup = BeautifulSoup(response.content, 'html.parser')\n",
    "\n",
    "        lat = soup.find(class_='latitude')\n",
    "        lon = soup.find(class_='longitude')\n",
    "        country = soup.find('th', string='Country')\n",
    "        pop = soup.find(string='Population').find_next(string=re.compile(r'\\d+,\\d+,\\d+'))\n",
    "\n",
    "        if not (lat and lon and country and pop):\n",
    "            print(f\"Skipping {city}, missing some data.\")\n",
    "            continue  \n",
    "\n",
    "        lat = parse(lat.text)\n",
    "        lon = parse(lon.text)  \n",
    "        country = country.find_next('td').text.strip()\n",
    "     \n",
    "        add_data.append({\n",
    "            \"city_name\": city,\n",
    "            \"country_name\": country,\n",
    "            \"longitude\": lon,\n",
    "            \"latitude\": lat,\n",
    "            \"population\": pop,\n",
    "            \"year_data_retrieved\": datetime.now()\n",
    "        })\n",
    "\n",
    "    return pd.DataFrame(add_data)  "
   ]
  },
  {
   "cell_type": "code",
   "execution_count": 3,
   "metadata": {},
   "outputs": [
    {
     "data": {
      "application/vnd.microsoft.datawrangler.viewer.v0+json": {
       "columns": [
        {
         "name": "index",
         "rawType": "int64",
         "type": "integer"
        },
        {
         "name": "city_name",
         "rawType": "object",
         "type": "string"
        },
        {
         "name": "country_name",
         "rawType": "object",
         "type": "string"
        },
        {
         "name": "longitude",
         "rawType": "float64",
         "type": "float"
        },
        {
         "name": "latitude",
         "rawType": "float64",
         "type": "float"
        },
        {
         "name": "population",
         "rawType": "object",
         "type": "string"
        },
        {
         "name": "year_data_retrieved",
         "rawType": "datetime64[ns]",
         "type": "datetime"
        }
       ],
       "ref": "524910f4-688b-4ab9-abe3-70218a217557",
       "rows": [
        [
         "0",
         "Berlin",
         "Germany",
         "13.405000000000001",
         "52.519999999999996",
         "3,596,999",
         "2025-10-15 16:12:05.554175"
        ],
        [
         "1",
         "Hamburg",
         "Germany",
         "10.0",
         "53.55",
         "1,964,021",
         "2025-10-15 16:12:06.486546"
        ],
        [
         "2",
         "Munich",
         "Germany",
         "11.575",
         "48.1375",
         "1,505,005",
         "2025-10-15 16:12:07.620851"
        ]
       ],
       "shape": {
        "columns": 6,
        "rows": 3
       }
      },
      "text/html": [
       "<div>\n",
       "<style scoped>\n",
       "    .dataframe tbody tr th:only-of-type {\n",
       "        vertical-align: middle;\n",
       "    }\n",
       "\n",
       "    .dataframe tbody tr th {\n",
       "        vertical-align: top;\n",
       "    }\n",
       "\n",
       "    .dataframe thead th {\n",
       "        text-align: right;\n",
       "    }\n",
       "</style>\n",
       "<table border=\"1\" class=\"dataframe\">\n",
       "  <thead>\n",
       "    <tr style=\"text-align: right;\">\n",
       "      <th></th>\n",
       "      <th>city_name</th>\n",
       "      <th>country_name</th>\n",
       "      <th>longitude</th>\n",
       "      <th>latitude</th>\n",
       "      <th>population</th>\n",
       "      <th>year_data_retrieved</th>\n",
       "    </tr>\n",
       "  </thead>\n",
       "  <tbody>\n",
       "    <tr>\n",
       "      <th>0</th>\n",
       "      <td>Berlin</td>\n",
       "      <td>Germany</td>\n",
       "      <td>13.405</td>\n",
       "      <td>52.5200</td>\n",
       "      <td>3,596,999</td>\n",
       "      <td>2025-10-15 16:12:05.554175</td>\n",
       "    </tr>\n",
       "    <tr>\n",
       "      <th>1</th>\n",
       "      <td>Hamburg</td>\n",
       "      <td>Germany</td>\n",
       "      <td>10.000</td>\n",
       "      <td>53.5500</td>\n",
       "      <td>1,964,021</td>\n",
       "      <td>2025-10-15 16:12:06.486546</td>\n",
       "    </tr>\n",
       "    <tr>\n",
       "      <th>2</th>\n",
       "      <td>Munich</td>\n",
       "      <td>Germany</td>\n",
       "      <td>11.575</td>\n",
       "      <td>48.1375</td>\n",
       "      <td>1,505,005</td>\n",
       "      <td>2025-10-15 16:12:07.620851</td>\n",
       "    </tr>\n",
       "  </tbody>\n",
       "</table>\n",
       "</div>"
      ],
      "text/plain": [
       "  city_name country_name  longitude  latitude population  \\\n",
       "0    Berlin      Germany     13.405   52.5200  3,596,999   \n",
       "1   Hamburg      Germany     10.000   53.5500  1,964,021   \n",
       "2    Munich      Germany     11.575   48.1375  1,505,005   \n",
       "\n",
       "         year_data_retrieved  \n",
       "0 2025-10-15 16:12:05.554175  \n",
       "1 2025-10-15 16:12:06.486546  \n",
       "2 2025-10-15 16:12:07.620851  "
      ]
     },
     "execution_count": 3,
     "metadata": {},
     "output_type": "execute_result"
    }
   ],
   "source": [
    "get_cities_info(['Berlin','Hamburg', 'Munich'])"
   ]
  },
  {
   "cell_type": "markdown",
   "metadata": {},
   "source": [
    "## Constructing dataframes: connecting phyton with my SQL"
   ]
  },
  {
   "cell_type": "code",
   "execution_count": 44,
   "metadata": {},
   "outputs": [
    {
     "data": {
      "text/plain": [
       "True"
      ]
     },
     "execution_count": 44,
     "metadata": {},
     "output_type": "execute_result"
    }
   ],
   "source": [
    "load_dotenv()"
   ]
  },
  {
   "cell_type": "code",
   "execution_count": 45,
   "metadata": {},
   "outputs": [],
   "source": [
    "password_mysql=os.getenv('mysql_password')\n",
    "my_user_mysql=os.getenv('username')\n",
    "my_sql_port=os.getenv('my_port')\n",
    "my_localhost=os.getenv('localhost')"
   ]
  },
  {
   "cell_type": "code",
   "execution_count": 46,
   "metadata": {},
   "outputs": [],
   "source": [
    "schema = \"gans\"\n",
    "host = my_localhost\n",
    "user = my_user_mysql\n",
    "password = password_mysql\n",
    "port = my_sql_port\n",
    "\n",
    "connection_string = f'mysql+pymysql://{user}:{password}@{host}:{port}/{schema}'\n"
   ]
  },
  {
   "cell_type": "markdown",
   "metadata": {},
   "source": [
    "#### cities_df"
   ]
  },
  {
   "cell_type": "code",
   "execution_count": 6,
   "metadata": {},
   "outputs": [
    {
     "data": {
      "application/vnd.microsoft.datawrangler.viewer.v0+json": {
       "columns": [
        {
         "name": "index",
         "rawType": "int64",
         "type": "integer"
        },
        {
         "name": "city_name",
         "rawType": "object",
         "type": "string"
        },
        {
         "name": "country_name",
         "rawType": "object",
         "type": "string"
        },
        {
         "name": "longitude",
         "rawType": "float64",
         "type": "float"
        },
        {
         "name": "latitude",
         "rawType": "float64",
         "type": "float"
        },
        {
         "name": "population",
         "rawType": "object",
         "type": "string"
        },
        {
         "name": "year_data_retrieved",
         "rawType": "datetime64[ns]",
         "type": "datetime"
        }
       ],
       "ref": "bed5007b-fa1a-4cd6-909d-d9e338b278ee",
       "rows": [
        [
         "0",
         "Berlin",
         "Germany",
         "13.405000000000001",
         "52.519999999999996",
         "3,596,999",
         "2025-10-15 16:13:36.504072"
        ],
        [
         "1",
         "Hamburg",
         "Germany",
         "10.0",
         "53.55",
         "1,964,021",
         "2025-10-15 16:13:38.123471"
        ],
        [
         "2",
         "Munich",
         "Germany",
         "11.575",
         "48.1375",
         "1,505,005",
         "2025-10-15 16:13:39.409996"
        ]
       ],
       "shape": {
        "columns": 6,
        "rows": 3
       }
      },
      "text/html": [
       "<div>\n",
       "<style scoped>\n",
       "    .dataframe tbody tr th:only-of-type {\n",
       "        vertical-align: middle;\n",
       "    }\n",
       "\n",
       "    .dataframe tbody tr th {\n",
       "        vertical-align: top;\n",
       "    }\n",
       "\n",
       "    .dataframe thead th {\n",
       "        text-align: right;\n",
       "    }\n",
       "</style>\n",
       "<table border=\"1\" class=\"dataframe\">\n",
       "  <thead>\n",
       "    <tr style=\"text-align: right;\">\n",
       "      <th></th>\n",
       "      <th>city_name</th>\n",
       "      <th>country_name</th>\n",
       "      <th>longitude</th>\n",
       "      <th>latitude</th>\n",
       "      <th>population</th>\n",
       "      <th>year_data_retrieved</th>\n",
       "    </tr>\n",
       "  </thead>\n",
       "  <tbody>\n",
       "    <tr>\n",
       "      <th>0</th>\n",
       "      <td>Berlin</td>\n",
       "      <td>Germany</td>\n",
       "      <td>13.405</td>\n",
       "      <td>52.5200</td>\n",
       "      <td>3,596,999</td>\n",
       "      <td>2025-10-15 16:13:36.504072</td>\n",
       "    </tr>\n",
       "    <tr>\n",
       "      <th>1</th>\n",
       "      <td>Hamburg</td>\n",
       "      <td>Germany</td>\n",
       "      <td>10.000</td>\n",
       "      <td>53.5500</td>\n",
       "      <td>1,964,021</td>\n",
       "      <td>2025-10-15 16:13:38.123471</td>\n",
       "    </tr>\n",
       "    <tr>\n",
       "      <th>2</th>\n",
       "      <td>Munich</td>\n",
       "      <td>Germany</td>\n",
       "      <td>11.575</td>\n",
       "      <td>48.1375</td>\n",
       "      <td>1,505,005</td>\n",
       "      <td>2025-10-15 16:13:39.409996</td>\n",
       "    </tr>\n",
       "  </tbody>\n",
       "</table>\n",
       "</div>"
      ],
      "text/plain": [
       "  city_name country_name  longitude  latitude population  \\\n",
       "0    Berlin      Germany     13.405   52.5200  3,596,999   \n",
       "1   Hamburg      Germany     10.000   53.5500  1,964,021   \n",
       "2    Munich      Germany     11.575   48.1375  1,505,005   \n",
       "\n",
       "         year_data_retrieved  \n",
       "0 2025-10-15 16:13:36.504072  \n",
       "1 2025-10-15 16:13:38.123471  \n",
       "2 2025-10-15 16:13:39.409996  "
      ]
     },
     "execution_count": 6,
     "metadata": {},
     "output_type": "execute_result"
    }
   ],
   "source": [
    "cities_info_df= pd.DataFrame(get_cities_info(['Berlin','Hamburg', 'Munich']))\n",
    "cities_info_df"
   ]
  },
  {
   "cell_type": "code",
   "execution_count": 7,
   "metadata": {},
   "outputs": [
    {
     "data": {
      "application/vnd.microsoft.datawrangler.viewer.v0+json": {
       "columns": [
        {
         "name": "index",
         "rawType": "int64",
         "type": "integer"
        },
        {
         "name": "city_name",
         "rawType": "object",
         "type": "string"
        },
        {
         "name": "country",
         "rawType": "object",
         "type": "string"
        }
       ],
       "ref": "20590edd-a7d7-433c-ad99-80edfc16ef2f",
       "rows": [
        [
         "0",
         "Berlin",
         "Germany"
        ],
        [
         "1",
         "Hamburg",
         "Germany"
        ],
        [
         "2",
         "Munich",
         "Germany"
        ]
       ],
       "shape": {
        "columns": 2,
        "rows": 3
       }
      },
      "text/html": [
       "<div>\n",
       "<style scoped>\n",
       "    .dataframe tbody tr th:only-of-type {\n",
       "        vertical-align: middle;\n",
       "    }\n",
       "\n",
       "    .dataframe tbody tr th {\n",
       "        vertical-align: top;\n",
       "    }\n",
       "\n",
       "    .dataframe thead th {\n",
       "        text-align: right;\n",
       "    }\n",
       "</style>\n",
       "<table border=\"1\" class=\"dataframe\">\n",
       "  <thead>\n",
       "    <tr style=\"text-align: right;\">\n",
       "      <th></th>\n",
       "      <th>city_name</th>\n",
       "      <th>country</th>\n",
       "    </tr>\n",
       "  </thead>\n",
       "  <tbody>\n",
       "    <tr>\n",
       "      <th>0</th>\n",
       "      <td>Berlin</td>\n",
       "      <td>Germany</td>\n",
       "    </tr>\n",
       "    <tr>\n",
       "      <th>1</th>\n",
       "      <td>Hamburg</td>\n",
       "      <td>Germany</td>\n",
       "    </tr>\n",
       "    <tr>\n",
       "      <th>2</th>\n",
       "      <td>Munich</td>\n",
       "      <td>Germany</td>\n",
       "    </tr>\n",
       "  </tbody>\n",
       "</table>\n",
       "</div>"
      ],
      "text/plain": [
       "  city_name  country\n",
       "0    Berlin  Germany\n",
       "1   Hamburg  Germany\n",
       "2    Munich  Germany"
      ]
     },
     "execution_count": 7,
     "metadata": {},
     "output_type": "execute_result"
    }
   ],
   "source": [
    "cities_df = pd.DataFrame({\n",
    "    \"city_name\": cities_info_df[\"city_name\"].values,\n",
    "    \"country\": cities_info_df[\"country_name\"].values\n",
    "})\n",
    "cities_df\n"
   ]
  },
  {
   "cell_type": "markdown",
   "metadata": {},
   "source": [
    "> **Important!**\n",
    "> Fill Gans Database to use the city_id primary key"
   ]
  },
  {
   "cell_type": "code",
   "execution_count": null,
   "metadata": {},
   "outputs": [
    {
     "data": {
      "text/plain": [
       "3"
      ]
     },
     "execution_count": 18,
     "metadata": {},
     "output_type": "execute_result"
    }
   ],
   "source": [
    "engine = create_engine(connection_string)\n",
    "\n",
    "cities_df.to_sql('cities', \n",
    "                 if_exists='append', \n",
    "                 con=engine,\n",
    "                 index=False)"
   ]
  },
  {
   "cell_type": "code",
   "execution_count": 47,
   "metadata": {},
   "outputs": [
    {
     "data": {
      "application/vnd.microsoft.datawrangler.viewer.v0+json": {
       "columns": [
        {
         "name": "index",
         "rawType": "int64",
         "type": "integer"
        },
        {
         "name": "city_id",
         "rawType": "int64",
         "type": "integer"
        },
        {
         "name": "city_name",
         "rawType": "object",
         "type": "string"
        },
        {
         "name": "country",
         "rawType": "object",
         "type": "string"
        }
       ],
       "ref": "8713d743-344c-439d-b17f-298f9d8c484c",
       "rows": [
        [
         "0",
         "1",
         "Berlin",
         "Germany"
        ],
        [
         "1",
         "2",
         "Hamburg",
         "Germany"
        ],
        [
         "2",
         "3",
         "Munich",
         "Germany"
        ]
       ],
       "shape": {
        "columns": 3,
        "rows": 3
       }
      },
      "text/html": [
       "<div>\n",
       "<style scoped>\n",
       "    .dataframe tbody tr th:only-of-type {\n",
       "        vertical-align: middle;\n",
       "    }\n",
       "\n",
       "    .dataframe tbody tr th {\n",
       "        vertical-align: top;\n",
       "    }\n",
       "\n",
       "    .dataframe thead th {\n",
       "        text-align: right;\n",
       "    }\n",
       "</style>\n",
       "<table border=\"1\" class=\"dataframe\">\n",
       "  <thead>\n",
       "    <tr style=\"text-align: right;\">\n",
       "      <th></th>\n",
       "      <th>city_id</th>\n",
       "      <th>city_name</th>\n",
       "      <th>country</th>\n",
       "    </tr>\n",
       "  </thead>\n",
       "  <tbody>\n",
       "    <tr>\n",
       "      <th>0</th>\n",
       "      <td>1</td>\n",
       "      <td>Berlin</td>\n",
       "      <td>Germany</td>\n",
       "    </tr>\n",
       "    <tr>\n",
       "      <th>1</th>\n",
       "      <td>2</td>\n",
       "      <td>Hamburg</td>\n",
       "      <td>Germany</td>\n",
       "    </tr>\n",
       "    <tr>\n",
       "      <th>2</th>\n",
       "      <td>3</td>\n",
       "      <td>Munich</td>\n",
       "      <td>Germany</td>\n",
       "    </tr>\n",
       "  </tbody>\n",
       "</table>\n",
       "</div>"
      ],
      "text/plain": [
       "   city_id city_name  country\n",
       "0        1    Berlin  Germany\n",
       "1        2   Hamburg  Germany\n",
       "2        3    Munich  Germany"
      ]
     },
     "execution_count": 47,
     "metadata": {},
     "output_type": "execute_result"
    }
   ],
   "source": [
    "# To confirm!\n",
    "cities_df_from_sql = pd.read_sql(\"cities\", con=connection_string)\n",
    "cities_df_from_sql"
   ]
  },
  {
   "cell_type": "markdown",
   "metadata": {},
   "source": [
    "#### additional_data_df"
   ]
  },
  {
   "cell_type": "code",
   "execution_count": 20,
   "metadata": {},
   "outputs": [],
   "source": [
    "add_data_df = (cities_info_df\n",
    "               .merge(cities_df_from_sql, on=\"city_name\", how=\"left\")\n",
    "               .drop(columns=[\"city_name\", \"country_name\", \"country\"]))"
   ]
  },
  {
   "cell_type": "code",
   "execution_count": 21,
   "metadata": {},
   "outputs": [
    {
     "data": {
      "text/plain": [
       "3"
      ]
     },
     "execution_count": 21,
     "metadata": {},
     "output_type": "execute_result"
    }
   ],
   "source": [
    "add_data_df.to_sql('additional_data',\n",
    "                if_exists='append',\n",
    "                con=connection_string,\n",
    "                index=False)"
   ]
  },
  {
   "cell_type": "code",
   "execution_count": 22,
   "metadata": {},
   "outputs": [
    {
     "data": {
      "application/vnd.microsoft.datawrangler.viewer.v0+json": {
       "columns": [
        {
         "name": "index",
         "rawType": "int64",
         "type": "integer"
        },
        {
         "name": "city_id",
         "rawType": "int64",
         "type": "integer"
        },
        {
         "name": "population",
         "rawType": "object",
         "type": "string"
        },
        {
         "name": "longitude",
         "rawType": "float64",
         "type": "float"
        },
        {
         "name": "latitude",
         "rawType": "float64",
         "type": "float"
        },
        {
         "name": "year_data_retrieved",
         "rawType": "datetime64[ns]",
         "type": "datetime"
        }
       ],
       "ref": "656c8d83-a620-4400-97a6-6141ac14df30",
       "rows": [
        [
         "0",
         "1",
         "3,596,999",
         "13.0",
         "53.0",
         "2025-10-15 16:13:37"
        ],
        [
         "1",
         "2",
         "1,964,021",
         "10.0",
         "54.0",
         "2025-10-15 16:13:38"
        ],
        [
         "2",
         "3",
         "1,505,005",
         "12.0",
         "48.0",
         "2025-10-15 16:13:39"
        ]
       ],
       "shape": {
        "columns": 5,
        "rows": 3
       }
      },
      "text/html": [
       "<div>\n",
       "<style scoped>\n",
       "    .dataframe tbody tr th:only-of-type {\n",
       "        vertical-align: middle;\n",
       "    }\n",
       "\n",
       "    .dataframe tbody tr th {\n",
       "        vertical-align: top;\n",
       "    }\n",
       "\n",
       "    .dataframe thead th {\n",
       "        text-align: right;\n",
       "    }\n",
       "</style>\n",
       "<table border=\"1\" class=\"dataframe\">\n",
       "  <thead>\n",
       "    <tr style=\"text-align: right;\">\n",
       "      <th></th>\n",
       "      <th>city_id</th>\n",
       "      <th>population</th>\n",
       "      <th>longitude</th>\n",
       "      <th>latitude</th>\n",
       "      <th>year_data_retrieved</th>\n",
       "    </tr>\n",
       "  </thead>\n",
       "  <tbody>\n",
       "    <tr>\n",
       "      <th>0</th>\n",
       "      <td>1</td>\n",
       "      <td>3,596,999</td>\n",
       "      <td>13.0</td>\n",
       "      <td>53.0</td>\n",
       "      <td>2025-10-15 16:13:37</td>\n",
       "    </tr>\n",
       "    <tr>\n",
       "      <th>1</th>\n",
       "      <td>2</td>\n",
       "      <td>1,964,021</td>\n",
       "      <td>10.0</td>\n",
       "      <td>54.0</td>\n",
       "      <td>2025-10-15 16:13:38</td>\n",
       "    </tr>\n",
       "    <tr>\n",
       "      <th>2</th>\n",
       "      <td>3</td>\n",
       "      <td>1,505,005</td>\n",
       "      <td>12.0</td>\n",
       "      <td>48.0</td>\n",
       "      <td>2025-10-15 16:13:39</td>\n",
       "    </tr>\n",
       "  </tbody>\n",
       "</table>\n",
       "</div>"
      ],
      "text/plain": [
       "   city_id population  longitude  latitude year_data_retrieved\n",
       "0        1  3,596,999       13.0      53.0 2025-10-15 16:13:37\n",
       "1        2  1,964,021       10.0      54.0 2025-10-15 16:13:38\n",
       "2        3  1,505,005       12.0      48.0 2025-10-15 16:13:39"
      ]
     },
     "execution_count": 22,
     "metadata": {},
     "output_type": "execute_result"
    }
   ],
   "source": [
    "add_data_df_from_sql = pd.read_sql(\"additional_data\", con=connection_string)\n",
    "add_data_df_from_sql"
   ]
  }
 ],
 "metadata": {
  "kernelspec": {
   "display_name": "Python 3",
   "language": "python",
   "name": "python3"
  },
  "language_info": {
   "codemirror_mode": {
    "name": "ipython",
    "version": 3
   },
   "file_extension": ".py",
   "mimetype": "text/x-python",
   "name": "python",
   "nbconvert_exporter": "python",
   "pygments_lexer": "ipython3",
   "version": "3.13.0"
  }
 },
 "nbformat": 4,
 "nbformat_minor": 2
}
